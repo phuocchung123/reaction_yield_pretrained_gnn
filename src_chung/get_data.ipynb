{
 "cells": [
  {
   "cell_type": "code",
   "execution_count": 1,
   "metadata": {},
   "outputs": [],
   "source": [
    "import pandas as pd\n",
    "import numpy as np\n",
    "import json\n",
    "from src_chung.get_reaction_data import get_graph_data"
   ]
  },
  {
   "cell_type": "code",
   "execution_count": 2,
   "metadata": {},
   "outputs": [],
   "source": [
    "data=pd.read_csv('../data_chung/schneider50k.tsv',sep='\\t',index_col=0)\n",
    "\n",
    "\n",
    "# Transfer from rxn_class to class\n",
    "with open('../data_chung/rxnclass2id.json','r') as f:\n",
    "    rxnclass2id=json.load(f)\n",
    "data['y']=[rxnclass2id[c] for c in data['rxn_class']]"
   ]
  },
  {
   "cell_type": "code",
   "execution_count": 3,
   "metadata": {},
   "outputs": [],
   "source": [
    "def to_categorical(y, num_classes):\n",
    "    \"\"\" 1-hot encodes a tensor \"\"\"\n",
    "    return np.eye(num_classes, dtype='uint8')[y]"
   ]
  },
  {
   "cell_type": "code",
   "execution_count": 7,
   "metadata": {},
   "outputs": [],
   "source": [
    "y=to_categorical(data['y'].values, 50)\n",
    "np.save('../data_chung/y.npy',y)"
   ]
  },
  {
   "cell_type": "code",
   "execution_count": 17,
   "metadata": {},
   "outputs": [
    {
     "name": "stdout",
     "output_type": "stream",
     "text": [
      "23\n",
      "6\n"
     ]
    }
   ],
   "source": [
    "#variable: data, filename_train, filename_test\n",
    "\n",
    "rsmi_list=data['rxn'].values\n",
    "rmol_max_cnt = np.max([smi.split(\">>\")[0].count(\".\") + 1 for smi in rsmi_list])\n",
    "pmol_max_cnt = np.max([smi.split(\">>\")[1].count(\".\") + 1 for smi in rsmi_list])\n",
    "\n",
    "\n",
    "#get_data_train\n",
    "data_train=data[data['split']=='train']\n",
    "rsmi_list_train=data_train['rxn'].values\n",
    "y_list_train=data_train['y'].values\n",
    "filename_train='../data_chung/data_train.npz'\n",
    "get_graph_data(rsmi_list_train,y_list_train,filename_train,rmol_max_cnt,pmol_max_cnt)\n",
    "\n",
    "#get_data_test\n",
    "data_test=data[data['split']=='test']\n",
    "rsmi_list_test=data_test['rxn'].values\n",
    "y_list_test=data_test['y'].values\n",
    "filename_test='../data_chung/data_test.npz'\n",
    "get_graph_data(rsmi_list_test,y_list_test,filename_test,rmol_max_cnt,pmol_max_cnt)\n",
    "\n"
   ]
  },
  {
   "cell_type": "code",
   "execution_count": null,
   "metadata": {},
   "outputs": [],
   "source": []
  }
 ],
 "metadata": {
  "kernelspec": {
   "display_name": "GIN_korea",
   "language": "python",
   "name": "python3"
  },
  "language_info": {
   "codemirror_mode": {
    "name": "ipython",
    "version": 3
   },
   "file_extension": ".py",
   "mimetype": "text/x-python",
   "name": "python",
   "nbconvert_exporter": "python",
   "pygments_lexer": "ipython3",
   "version": "3.11.0"
  }
 },
 "nbformat": 4,
 "nbformat_minor": 2
}
